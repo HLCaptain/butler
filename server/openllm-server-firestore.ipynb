{
 "cells": [
  {
   "cell_type": "code",
   "execution_count": null,
   "metadata": {},
   "outputs": [],
   "source": [
    "import openai\n",
    "import uuid\n",
    "import time\n",
    "import threading\n",
    "from google.cloud import firestore"
   ]
  },
  {
   "cell_type": "code",
   "execution_count": null,
   "metadata": {},
   "outputs": [],
   "source": [
    "# openllm start NousResearch/Nous-Hermes-llama-2-7b --port 8001 --dtype float16 --backend vllm > openllm.log 2>&1 &"
   ]
  },
  {
   "cell_type": "code",
   "execution_count": null,
   "metadata": {},
   "outputs": [],
   "source": [
    "# openllm start NousResearch/Nous-Hermes-llama-2-7b --port 8001 --dtype float16 --backend vllm > openllm.log 2>&1 &"
   ]
  },
  {
   "cell_type": "code",
   "execution_count": null,
   "metadata": {},
   "outputs": [],
   "source": [
    "client = openai.OpenAI(\n",
    "    api_key='EMPTY',\n",
    "    base_url=\"http://localhost:8001/v1\"\n",
    ")"
   ]
  },
  {
   "cell_type": "code",
   "execution_count": null,
   "metadata": {},
   "outputs": [],
   "source": [
    "# Use the application default credentials.\n",
    "db = firestore.Client()"
   ]
  },
  {
   "cell_type": "code",
   "execution_count": null,
   "metadata": {},
   "outputs": [],
   "source": [
    "collection_event = threading.Event()\n",
    "\n",
    "def sort_messages_by_timestamp(chat):\n",
    "    if 'messages' in chat and isinstance(chat['messages'], list):\n",
    "        sorted_messages = sorted(chat['messages'], key=lambda x: x['timestamp'])\n",
    "        return sorted_messages\n",
    "    else:\n",
    "        return chat['messages']  # or an appropriate response if the structure is not as expected\n",
    "\n",
    "def clean_llm_output_message(message):\n",
    "    for line in message.splitlines():\n",
    "        if len(line) < 5:\n",
    "            continue\n",
    "        return line\n",
    "    return message # message is already clean\n",
    "\n",
    "def map_messages_to_openai_api(messages):\n",
    "    openai_messages = []\n",
    "    for message in messages:\n",
    "        openai_messages.append({\n",
    "            'content': message['message'],\n",
    "            'role': message['role']\n",
    "        })\n",
    "    return openai_messages\n",
    "\n",
    "def map_messages_to_alternating_roles(messages):\n",
    "    alternating_messages = []\n",
    "    last_role = None\n",
    "    for message in messages:\n",
    "        if message['role'] != last_role:\n",
    "            alternating_messages.append(message)\n",
    "            last_role = message['role']\n",
    "        else:\n",
    "            # If the last message was from the same role, append the message to the last message\n",
    "            alternating_messages[-1]['message'] += '\\n' + message['message']\n",
    "    return alternating_messages\n",
    "\n",
    "def on_snapshot(doc_snapshot, changes, read_time):\n",
    "    for doc in doc_snapshot:\n",
    "        # Get the last message from the chat\n",
    "        print(f'Doc: {doc.id}')\n",
    "        chat = doc.to_dict()\n",
    "        sorted_chat_messages = sort_messages_by_timestamp(chat)\n",
    "        # Check if the chat is empty\n",
    "        if not sorted_chat_messages:\n",
    "            print('Chat is empty')\n",
    "            continue\n",
    "        # Check for a message from the assistant\n",
    "        if sorted_chat_messages[-1]['role'] == 'assistant':\n",
    "            print('Last message is from the assistant')\n",
    "            continue\n",
    "\n",
    "        # Model UUID is not available\n",
    "        if 'modelUUID' not in [model.id for model in client.models.list().data]:\n",
    "            print('Model UUID is not available')\n",
    "            continue\n",
    "\n",
    "        model = chat['modelUUID']\n",
    "\n",
    "        alternating_messages = map_messages_to_alternating_roles(sorted_chat_messages)\n",
    "        openai_messages = map_messages_to_openai_api(alternating_messages)\n",
    "        chat_completion = client.chat.completions.create(\n",
    "            model=model,  # Replace with your preferred model\n",
    "            messages=openai_messages\n",
    "        )\n",
    "\n",
    "        # Add the AI response to the chat\n",
    "        cleaned_message = clean_llm_output_message(chat_completion.choices[0].message.content)\n",
    "        print(f'AI Response: {cleaned_message}')\n",
    "        db.collection('chats').document(doc.id).update({\n",
    "            'messages': firestore.ArrayUnion([{\n",
    "                'role': 'assistant',\n",
    "                'message': cleaned_message,\n",
    "                'timestamp': int(time.time() * 1000),\n",
    "                'uuid': str(uuid.uuid4()),\n",
    "                'senderUUID': chat['modelUUID']\n",
    "            }])\n",
    "        })\n",
    "    collection_event.set()\n",
    "\n",
    "# Add the listener to your Firestore collection\n",
    "chat_ref = db.collection('chats')\n",
    "chat_watch = chat_ref.on_snapshot(on_snapshot)"
   ]
  },
  {
   "cell_type": "code",
   "execution_count": null,
   "metadata": {},
   "outputs": [],
   "source": [
    "# advertise available models in `models` collection\n",
    "models_ref = db.collection('models')\n",
    "for model in client.models.list().data:\n",
    "    models_ref.document(model.id).set({\n",
    "        'uuid': model.id,\n",
    "        'name': model.id,\n",
    "        'created': model.created,\n",
    "        'author': model.owned_by,\n",
    "        'greetingMessage': 'Hello!',\n",
    "        'type': 'Chatbot'\n",
    "    })\n",
    "\n",
    "# delete available models in `models` collection when closing\n",
    "def delete_models():\n",
    "    for model in client.models.list().data:\n",
    "        models_ref.document(model.id).delete()"
   ]
  },
  {
   "cell_type": "code",
   "execution_count": null,
   "metadata": {},
   "outputs": [],
   "source": [
    "import atexit\n",
    "\n",
    "atexit.register(delete_models)"
   ]
  }
 ],
 "metadata": {
  "kernelspec": {
   "display_name": "Python 3",
   "language": "python",
   "name": "python3"
  },
  "language_info": {
   "codemirror_mode": {
    "name": "ipython",
    "version": 3
   },
   "file_extension": ".py",
   "mimetype": "text/x-python",
   "name": "python",
   "nbconvert_exporter": "python",
   "pygments_lexer": "ipython3",
   "version": "3.11.6"
  }
 },
 "nbformat": 4,
 "nbformat_minor": 2
}
