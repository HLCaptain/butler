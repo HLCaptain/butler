{
 "cells": [
  {
   "cell_type": "code",
   "execution_count": 1,
   "metadata": {},
   "outputs": [],
   "source": [
    "import openai\n",
    "import uuid\n",
    "import time\n",
    "import threading\n",
    "from google.cloud import firestore"
   ]
  },
  {
   "cell_type": "code",
   "execution_count": 2,
   "metadata": {},
   "outputs": [],
   "source": [
    "# openllm start NousResearch/Nous-Hermes-llama-2-7b --port 8001 --dtype float16 --backend vllm > openllm.log 2>&1 &"
   ]
  },
  {
   "cell_type": "code",
   "execution_count": 6,
   "metadata": {},
   "outputs": [],
   "source": [
    "client = openai.OpenAI(\n",
    "    api_key='EMPTY',\n",
    "    base_url=\"http://localhost:8001/v1\"\n",
    ")\n",
    "model = client.models.list().data[0].id"
   ]
  },
  {
   "cell_type": "code",
   "execution_count": 7,
   "metadata": {},
   "outputs": [],
   "source": [
    "# Use the application default credentials.\n",
    "db = firestore.Client()"
   ]
  },
  {
   "cell_type": "code",
   "execution_count": 8,
   "metadata": {},
   "outputs": [
    {
     "name": "stdout",
     "output_type": "stream",
     "text": [
      "Doc: 252a4016-b752-4ccb-a75a-821da1047704\n",
      "Chat is empty\n",
      "Doc: 33f6a81e-967e-4936-adf6-00b5eba77320\n",
      "Chat is empty\n",
      "Doc: 3ae3f4ef-4bf8-4576-a52e-237512fcfebc\n",
      "Chat is empty\n",
      "Doc: 48ca81f8-553f-4ea3-9042-eae10e7bd855\n",
      "Last message is from the assistant\n",
      "Doc: 60a8ac95-1480-47e3-a003-6bfd9682c131\n",
      "Chat is empty\n",
      "Doc: 779db376-4d0d-4f2b-acbc-a4654a23c5bd\n",
      "Last message is from the assistant\n",
      "Doc: a73a71ef-e89b-47dc-891a-affc483cb20e\n",
      "Chat is empty\n",
      "Doc: c384e952-42be-49e5-a8b0-694b072b1134\n",
      "AI Response: My favorite cat breed is the Siamese cat. I find their sleek, colorpoint coat and piercing blue eyes very striking and elegant. They are also known for their playful and social personality, which makes them wonderful companions.\n",
      "Doc: test-chat\n",
      "Chat is empty\n",
      "Doc: 252a4016-b752-4ccb-a75a-821da1047704\n",
      "Chat is empty\n",
      "Doc: 33f6a81e-967e-4936-adf6-00b5eba77320\n",
      "Chat is empty\n",
      "Doc: 3ae3f4ef-4bf8-4576-a52e-237512fcfebc\n",
      "Chat is empty\n",
      "Doc: 48ca81f8-553f-4ea3-9042-eae10e7bd855\n",
      "Last message is from the assistant\n",
      "Doc: 60a8ac95-1480-47e3-a003-6bfd9682c131\n",
      "Chat is empty\n",
      "Doc: 779db376-4d0d-4f2b-acbc-a4654a23c5bd\n",
      "Last message is from the assistant\n",
      "Doc: a73a71ef-e89b-47dc-891a-affc483cb20e\n",
      "Chat is empty\n",
      "Doc: c384e952-42be-49e5-a8b0-694b072b1134\n",
      "Last message is from the assistant\n",
      "Doc: test-chat\n",
      "Chat is empty\n"
     ]
    }
   ],
   "source": [
    "collection_event = threading.Event()\n",
    "\n",
    "def sort_messages_by_timestamp(chat):\n",
    "    if 'messages' in chat and isinstance(chat['messages'], list):\n",
    "        sorted_messages = sorted(chat['messages'], key=lambda x: x['timestamp'])\n",
    "        return sorted_messages\n",
    "    else:\n",
    "        return chat['messages']  # or an appropriate response if the structure is not as expected\n",
    "\n",
    "def clean_llm_output_message(message):\n",
    "    for line in message.splitlines():\n",
    "        if len(line) < 5:\n",
    "            continue\n",
    "        return line\n",
    "    return message # message is already clean\n",
    "\n",
    "def map_messages_to_openai_api(messages):\n",
    "    openai_messages = []\n",
    "    for message in messages:\n",
    "        openai_messages.append({\n",
    "            'content': message['message'],\n",
    "            'role': message['role']\n",
    "        })\n",
    "    return openai_messages\n",
    "\n",
    "def map_messages_to_alternating_roles(messages):\n",
    "    alternating_messages = []\n",
    "    last_role = None\n",
    "    for message in messages:\n",
    "        if message['role'] != last_role:\n",
    "            alternating_messages.append(message)\n",
    "            last_role = message['role']\n",
    "        else:\n",
    "            # If the last message was from the same role, append the message to the last message\n",
    "            alternating_messages[-1]['message'] += '\\n' + message['message']\n",
    "    return alternating_messages\n",
    "\n",
    "def on_snapshot(doc_snapshot, changes, read_time):\n",
    "    for doc in doc_snapshot:\n",
    "        # Get the last message from the chat\n",
    "        print(f'Doc: {doc.id}')\n",
    "        chat = doc.to_dict()\n",
    "        sorted_chat_messages = sort_messages_by_timestamp(chat)\n",
    "        # Check if the chat is empty\n",
    "        if not sorted_chat_messages:\n",
    "            print('Chat is empty')\n",
    "            continue\n",
    "        # Check for a message from the assistant\n",
    "        if sorted_chat_messages[-1]['role'] == 'assistant':\n",
    "            print('Last message is from the assistant')\n",
    "            continue\n",
    "\n",
    "        alternating_messages = map_messages_to_alternating_roles(sorted_chat_messages)\n",
    "        openai_messages = map_messages_to_openai_api(alternating_messages)\n",
    "        chat_completion = client.chat.completions.create(\n",
    "            model=model,  # Replace with your preferred model\n",
    "            messages=openai_messages\n",
    "        )\n",
    "\n",
    "        # Add the AI response to the chat\n",
    "        cleaned_message = clean_llm_output_message(chat_completion.choices[0].message.content)\n",
    "        print(f'AI Response: {cleaned_message}')\n",
    "        db.collection('chats').document(doc.id).update({\n",
    "            'messages': firestore.ArrayUnion([{\n",
    "                'role': 'assistant',\n",
    "                'message': cleaned_message,\n",
    "                'timestamp': int(time.time() * 1000),\n",
    "                'uuid': str(uuid.uuid4()),\n",
    "                'senderUUID': 'test-model'\n",
    "            }])\n",
    "        })\n",
    "    collection_event.set()\n",
    "\n",
    "# Add the listener to your Firestore collection\n",
    "chat_ref = db.collection('chats')\n",
    "chat_watch = chat_ref.on_snapshot(on_snapshot)"
   ]
  }
 ],
 "metadata": {
  "kernelspec": {
   "display_name": "Python 3",
   "language": "python",
   "name": "python3"
  },
  "language_info": {
   "name": "python",
   "version": "3.11.6"
  }
 },
 "nbformat": 4,
 "nbformat_minor": 2
}
