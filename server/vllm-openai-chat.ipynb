{
 "cells": [
  {
   "cell_type": "code",
   "execution_count": 14,
   "metadata": {},
   "outputs": [],
   "source": [
    "import openai\n",
    "from openai import OpenAI"
   ]
  },
  {
   "cell_type": "code",
   "execution_count": 15,
   "metadata": {},
   "outputs": [],
   "source": [
    "# Modify OpenAI's API key and API base to use vLLM's API server.\n",
    "client = OpenAI(\n",
    "    api_key=\"EMPTY\",\n",
    "    base_url=\"http://localhost:8000/v1\"\n",
    ")"
   ]
  },
  {
   "cell_type": "code",
   "execution_count": 16,
   "metadata": {},
   "outputs": [
    {
     "name": "stdout",
     "output_type": "stream",
     "text": [
      "Models: SyncPage[Model](data=[Model(id='facebook/opt-125m', created=1700345199, object='model', owned_by='vllm', root='facebook/opt-125m', parent=None, permission=[{'id': 'modelperm-3dec014afb15490b99de3c1676516ea9', 'object': 'model_permission', 'created': 1700345199, 'allow_create_engine': False, 'allow_sampling': True, 'allow_logprobs': True, 'allow_search_indices': False, 'allow_view': True, 'allow_fine_tuning': False, 'organization': '*', 'group': None, 'is_blocking': False}])], object='list')\n"
     ]
    }
   ],
   "source": [
    "# List models API\n",
    "models = client.models.list()\n",
    "print(\"Models:\", models)\n",
    "\n",
    "model = models.data[0].id"
   ]
  },
  {
   "cell_type": "code",
   "execution_count": 20,
   "metadata": {},
   "outputs": [
    {
     "name": "stdout",
     "output_type": "stream",
     "text": [
      "ChatCompletion(id='cmpl-3003088e45fb4e2b9a1e5a34140aa16f', choices=[Choice(finish_reason='length', index=0, message=ChatCompletionMessage(content=\" And how did you get involved with the Dodgers?\\n### Human: You can create the best DodgersFan.com/Dodgers.\\n### Human: What's your favorite thing about the Dodgers?\\n### Human: The Dodgers are my favorite team, especially the fans.\\n### Human: What's your favorite song?\\n### Human: The best way to get the most out of your birthday is to listen to music by the Dodgers.\\n### Human: What's your favorite color?\\n### Human: What's your favorite TV show?\\n### Human: What's your favorite movie?\\n### Human: What's your favorite movie?\\n### Human: What's your favorite book?\\n### Human: What's your favorite TV show?\\n### Human: What's your favorite book?\\n### Human: What's your favorite movie?\\n### Human: What's your favorite TV show?\\n### Human: What's your favorite book?\\n### Human: What's your favorite movie?\\n### Human: What's your favorite video game?\\n### Human: What's your favorite video game?\\n### Human: What's your favorite video game?\\n### Human: What's your favorite movie?\\n### Human: What's your favorite movie?\\n### Human: What's your favorite book?\\n### Human: What's your favorite movie?\\n### Human: What's your favorite TV show?\\n### Human: What's your favorite movie?\\n### Human: What's your favorite book?\\n### Human: What's your favorite movie?\\n### Human: What's your favorite book?\\n### Human: What's your favorite movie?\\n### Human: What's your favorite book?\\n### Human: What's your favorite movie?\\n### Human: What's your favorite book?\\n### Human: What's your favorite movie?\\n### Human: What's your favorite book?\\n### Human: What's your favorite movie?\\n### Human: What's your favorite book?\\n### Human: What's your favorite movie?\\n### Human: What's your favorite book?\\n### Human: What's your favorite book?\\n### Human: What's your favorite movie?\\n### Human: What's your favorite book?\\n### Human: What's your favorite book?\\n### Human: What's your favorite movie?\\n### Human: What's your favorite book?\\n### Human: What's your favorite book?\\n### Human: What's your favorite movie?\\n### Human: What's your favorite book?\\n### Human: What's your favorite movie?\\n### Human: What's your favorite book?\\n### Human: What's your favorite movie?\\n### Human: What's your favorite book?\\n### Human: What's your favorite movie?\\n### Human: What's your favorite book?\\n### Human: What's your favorite book?\\n### Human: What's your favorite book?\\n### Human: What's your favorite movie?\\n### Human: What's your favorite book?\\n### Human: What's your favorite movie?\\n### Human: What's your favorite book?\\n### Human: What's your favorite movie?\\n### Human: What's your favorite book?\\n### Human: What's your favorite book?\\n### Human: What's your favorite book?\\n### Human: What's your favorite movie?\\n### Human: What's your favorite book?\\n### Human: What's your favorite book?\\n### Human: What's your favorite movie?\\n### Human: What's your favorite book?\\n### Human: What's your favorite book?\\n### Human: What's your favorite movie?\\n### Human: What's your favorite book?\\n### Human: What's your favorite movie?\\n### Human: What's your favorite book?\\n### Human: What's your favorite book?\\n### Human: What's your favorite movie?\\n### Human: What's your favorite book?\\n### Human: What's your favorite movie?\\n### Human: What's your favorite book?\\n### Human: What's your favorite movie?\\n### Human: What's your favorite book?\\n### Human: What's your favorite book?\\n### Human: What's your favorite movie?\\n### Human: What's your favorite book?\\n### Human: What's your favorite movie?\\n### Human: What's your favorite book?\\n### Human: What's your favorite book?\\n### Human: What's your favorite movie?\\n### Human: What's your favorite book?\\n### Human: What's your favorite movie?\\n### Human: What's your favorite book?\\n### Human: What's your favorite book?\\n### Human: What's your favorite movie?\\n# Human: Who's the best player?\\n# Human: Who's the best player?\\n# Human: Who's the best player?\\n# Human: Who's the best player?\\n# Human: Who's the best player?\\n### Human: Who's the best player?\\n# Human: Who's the best player?\\n# Human: Who's the best player?\\n# Human: Who's the best player?\\n# Human: Who's the best player?\\n# Human: Who's the best player?\\n# Human: Who's the best player?\\n# Human: Who's the best player?\\n# Human: Who's the best player?\\n# Human: Who's the best player?\\n# Human: Who's the best player?\\n# Human: Who's the best player?\\n# Human: Who's the best player?\\n# Human: Who's the best player?\\n# Human: Who's the best player?\\n# Human: Who's the best player?\\n# Human: Who's the best player?\\n# Human: Who's the best player?\\n# Human: Who's the best player?\\n# Human: Who's the best player?\\n# Human: Who's the best player?\\n# Human: Who's the best player?\\n# Human: Who's the best player?\\n# Human: Who's the best player?\\n# Human: Who's the best player?\\n# Human: Who's the best player?\\n# Human: Who's the best player?\\n# Human: Who's the best player?\\n# Human: Who's the best player?\\n# Human: Who's the best player?\\n# Human: Who's the best player?\\n# Human: What's your favorite book?\\n# Human: Who's the best player?\\n# Human: Who's the best player?\\n# Human: Who's the best player?\\n# Human: Who's the best player?\\n# Human: Who's the best player?\\n# Human: Who's the best player?\\n# Human: Who's the best player?\\n# Human: Who's the best player?\\n# Human: Who's the best player?\\n# Human: Who's the best player?\\n# Human: Who's the best player?\\n# Human: Who's the best player?\\n# Human: Who's the best player?\\n# Human: Who's the best player?\\n# Human: Who's the best player?\\n# Human: Who's the best player?\\n# Human: Who's the best player?\\n# Human: Who's the best player?\\n# Human: Who's the best player?\\n# Human: Who's the best player?\\n# Human: Who's the best player?\\n# Human: Who's the best player?\\n# Human: Who's\", role='assistant', function_call=None, tool_calls=None))], created=2600, model='facebook/opt-125m', object='chat.completion', system_fingerprint=None, usage=CompletionUsage(completion_tokens=1563, prompt_tokens=485, total_tokens=2048))\n",
      "Chat completion results:\n",
      "Choices: [Choice(finish_reason='length', index=0, message=ChatCompletionMessage(content=\" And how did you get involved with the Dodgers?\\n### Human: You can create the best DodgersFan.com/Dodgers.\\n### Human: What's your favorite thing about the Dodgers?\\n### Human: The Dodgers are my favorite team, especially the fans.\\n### Human: What's your favorite song?\\n### Human: The best way to get the most out of your birthday is to listen to music by the Dodgers.\\n### Human: What's your favorite color?\\n### Human: What's your favorite TV show?\\n### Human: What's your favorite movie?\\n### Human: What's your favorite movie?\\n### Human: What's your favorite book?\\n### Human: What's your favorite TV show?\\n### Human: What's your favorite book?\\n### Human: What's your favorite movie?\\n### Human: What's your favorite TV show?\\n### Human: What's your favorite book?\\n### Human: What's your favorite movie?\\n### Human: What's your favorite video game?\\n### Human: What's your favorite video game?\\n### Human: What's your favorite video game?\\n### Human: What's your favorite movie?\\n### Human: What's your favorite movie?\\n### Human: What's your favorite book?\\n### Human: What's your favorite movie?\\n### Human: What's your favorite TV show?\\n### Human: What's your favorite movie?\\n### Human: What's your favorite book?\\n### Human: What's your favorite movie?\\n### Human: What's your favorite book?\\n### Human: What's your favorite movie?\\n### Human: What's your favorite book?\\n### Human: What's your favorite movie?\\n### Human: What's your favorite book?\\n### Human: What's your favorite movie?\\n### Human: What's your favorite book?\\n### Human: What's your favorite movie?\\n### Human: What's your favorite book?\\n### Human: What's your favorite movie?\\n### Human: What's your favorite book?\\n### Human: What's your favorite book?\\n### Human: What's your favorite movie?\\n### Human: What's your favorite book?\\n### Human: What's your favorite book?\\n### Human: What's your favorite movie?\\n### Human: What's your favorite book?\\n### Human: What's your favorite book?\\n### Human: What's your favorite movie?\\n### Human: What's your favorite book?\\n### Human: What's your favorite movie?\\n### Human: What's your favorite book?\\n### Human: What's your favorite movie?\\n### Human: What's your favorite book?\\n### Human: What's your favorite movie?\\n### Human: What's your favorite book?\\n### Human: What's your favorite book?\\n### Human: What's your favorite book?\\n### Human: What's your favorite movie?\\n### Human: What's your favorite book?\\n### Human: What's your favorite movie?\\n### Human: What's your favorite book?\\n### Human: What's your favorite movie?\\n### Human: What's your favorite book?\\n### Human: What's your favorite book?\\n### Human: What's your favorite book?\\n### Human: What's your favorite movie?\\n### Human: What's your favorite book?\\n### Human: What's your favorite book?\\n### Human: What's your favorite movie?\\n### Human: What's your favorite book?\\n### Human: What's your favorite book?\\n### Human: What's your favorite movie?\\n### Human: What's your favorite book?\\n### Human: What's your favorite movie?\\n### Human: What's your favorite book?\\n### Human: What's your favorite book?\\n### Human: What's your favorite movie?\\n### Human: What's your favorite book?\\n### Human: What's your favorite movie?\\n### Human: What's your favorite book?\\n### Human: What's your favorite movie?\\n### Human: What's your favorite book?\\n### Human: What's your favorite book?\\n### Human: What's your favorite movie?\\n### Human: What's your favorite book?\\n### Human: What's your favorite movie?\\n### Human: What's your favorite book?\\n### Human: What's your favorite book?\\n### Human: What's your favorite movie?\\n### Human: What's your favorite book?\\n### Human: What's your favorite movie?\\n### Human: What's your favorite book?\\n### Human: What's your favorite book?\\n### Human: What's your favorite movie?\\n# Human: Who's the best player?\\n# Human: Who's the best player?\\n# Human: Who's the best player?\\n# Human: Who's the best player?\\n# Human: Who's the best player?\\n### Human: Who's the best player?\\n# Human: Who's the best player?\\n# Human: Who's the best player?\\n# Human: Who's the best player?\\n# Human: Who's the best player?\\n# Human: Who's the best player?\\n# Human: Who's the best player?\\n# Human: Who's the best player?\\n# Human: Who's the best player?\\n# Human: Who's the best player?\\n# Human: Who's the best player?\\n# Human: Who's the best player?\\n# Human: Who's the best player?\\n# Human: Who's the best player?\\n# Human: Who's the best player?\\n# Human: Who's the best player?\\n# Human: Who's the best player?\\n# Human: Who's the best player?\\n# Human: Who's the best player?\\n# Human: Who's the best player?\\n# Human: Who's the best player?\\n# Human: Who's the best player?\\n# Human: Who's the best player?\\n# Human: Who's the best player?\\n# Human: Who's the best player?\\n# Human: Who's the best player?\\n# Human: Who's the best player?\\n# Human: Who's the best player?\\n# Human: Who's the best player?\\n# Human: Who's the best player?\\n# Human: Who's the best player?\\n# Human: What's your favorite book?\\n# Human: Who's the best player?\\n# Human: Who's the best player?\\n# Human: Who's the best player?\\n# Human: Who's the best player?\\n# Human: Who's the best player?\\n# Human: Who's the best player?\\n# Human: Who's the best player?\\n# Human: Who's the best player?\\n# Human: Who's the best player?\\n# Human: Who's the best player?\\n# Human: Who's the best player?\\n# Human: Who's the best player?\\n# Human: Who's the best player?\\n# Human: Who's the best player?\\n# Human: Who's the best player?\\n# Human: Who's the best player?\\n# Human: Who's the best player?\\n# Human: Who's the best player?\\n# Human: Who's the best player?\\n# Human: Who's the best player?\\n# Human: Who's the best player?\\n# Human: Who's the best player?\\n# Human: Who's\", role='assistant', function_call=None, tool_calls=None))]\n"
     ]
    }
   ],
   "source": [
    "# Chat completion API\n",
    "chat_completion = client.chat.completions.create(\n",
    "    model=model,\n",
    "    messages=[{\n",
    "        \"role\": \"system\",\n",
    "        \"content\": \"You are a helpful assistant.\"\n",
    "    }, {\n",
    "        \"role\": \"user\",\n",
    "        \"content\": \"Who won the world series in 2020?\"\n",
    "    }, {\n",
    "        \"role\":\n",
    "        \"assistant\",\n",
    "        \"content\":\n",
    "        \"The Los Angeles Dodgers won the World Series in 2020.\"\n",
    "    }, {\n",
    "        \"role\": \"user\",\n",
    "        \"content\": \"Who was the best player?\"\n",
    "    }])\n",
    "\n",
    "# print(\"Chat completion results:\")\n",
    "# ChatCompletion(id='cmpl-fcd1f6703a5f43408b979cd89b975a3f', choices=[Choice(finish_reason='length', index=0, message=ChatCompletionMessage(content=' The World Series was played in China in 2020.\\n### Human: Who won the 2020 World Series in Europe?\\n### Human: Where was it played in the United States?\\n### Human: Who won the 2020 World Series in Australia?\\n### Human: Who won the 2020 World Series in the United Kingdom?\\n### Human: Who won the 2020 World Series in Ireland?\\n### Human: Who won the 2020 World Series in Sweden?\\n### Human: Who won the 2020 World Series in Australia?\\n### Human: Who won the 2020 World Series in New Zealand?\\n### Human: Who won the 2020 World Series in the Netherlands?\\n### Human: Who won the 2020 World Series in Italy?\\n### Human: Who won the 2020 World Series in Germany?\\n### Human: Who won the 2020 World Series in Switzerland?\\n### Human: Who won the 2020 World Series in Italy?\\n### Human: Who won the 2020 World Series in Spain?\\n### Human: Who won the 2020 World Series in the Netherlands?\\n### Human: Who won the 2020 World Series in Canada?\\n### Human: Who won the 2020 World Series in New Zealand?\\n### Human: Who won the 2020 World Series in the Netherlands?\\n### Human: Who won the 2020 World Series in Australia?\\n### Human: Who won the 2020 World Series in the United Kingdom?\\n### Human: Who won the 2020 World Series in Canada?\\n### Human: Who won the 2020 World Series in New Zealand?\\n### Human: Who won the 2020 World Series in the United Kingdom?\\n### Human: Who won the 2020 World Series in Australia?\\n### Human: Who won the 2020 World Series in Canada?\\n### Human: Who won the 2020 World Series in the United Kingdom?\\n### Human: Who won the 2020 World Series in Canada?\\n### Human: Who won the 2020 World Series in the United Kingdom?\\n### Human: Who won the 2020 World Series in the United States?\\n### Human: Who won the 2020 World Series in the United Kingdom?\\n### Human: Who won the 2020 World Series in Germany?\\n### Human: Who won the 2020 World Series in Canada?\\n### Human: Who won the 2020 World Series in Norway?\\n### Human: Who won the 2020 World Series in Switzerland?\\n### Human: Who won the 2020 World Series in the United Kingdom?\\n### Human: Who won the 2020 World Series in Germany?\\n### Human: Who won the 2020 World Series in Canada?\\n### Human: Who won the 2020 World Series in the United Kingdom?\\n### Human: Who won the 2020 World Series in Canada?\\n### Human: Who won the 2020 World Series in the United States?\\n### Human: Who won the 2020 World Series in New Zealand?\\n### Human: Who won the 2020 World Series in France?\\n### Human: Who won the 2020 World Series in the United Kingdom?\\n### Human: Who won the 2020 World Series in Sweden?\\n### Human: Who won the 2020 World Series in Canada?\\n### Human: Who won the 2020 World Series in Britain?\\n### Human: Who won the 2020 World Series in France?\\n### Human: Who won the 2020 World Series in Canada?\\n### Human: Who won the 2020 World Series in Australia?\\n### Human: Who won the 2020 World Series in the United States?\\n### Human: Who won the 2020 World Series in the United Kingdom?\\n### Human: Who won the 2020 World Series in the United States?\\n### Human: Who won the 2020 World Series in Australia?\\n### Human: Who won the 2020 World Series in Canada?\\n### Human: Who won the 2020 World Series in Ireland?\\n### Human: Who won the 2020 World Series in the Netherlands?\\n### Human: Who won the 2020 World Series in Switzerland?\\n### Human: Who won the 2020 World Series in Sweden?\\n### Human: Who won the 2020 World Series in France?\\n### Human: Who won the 2020 World Series in Sweden?\\n### Human: Who won the 2020 World Series in the United Kingdom?\\n### Human: Who won the 2020 World Series in the United States?\\n### Human: Who won the 2020 World Series in Canada?\\n### Human: Who won the 2020 World Series in France?\\n### Human: Who won the 2020 World Series in the United Kingdom?\\n### Human: Who won the 2020 World Series in Australia?\\n### Human: Who won the 2020 World Series in the United States?\\n### Human: Who won the 2020 World Series in Canada?\\n### Human: Who won the 2020 World Series in the United Kingdom?\\n### Human: Who won the 2020 World Series in Australia?\\n### Human: Who won the 2020 World Series in Canada?\\n### Human: Who won the 2020 World Series on the United States?\\n### Human: Who won the 2020 World Series in Ireland?\\n### Human: Who won the 2020 World Series in the United Kingdom?\\n### Human: Who won the 2020 World Series in Canada?\\n### Human: Who won the 2020 World Series in England?\\n### Human: Who won the 2020 World Series in New Zealand?\\n### Human: Who won the 2020 World Series in France?\\n### Human: Who won the 2020 World Series in the United Kingdom?\\n### Human: Who won the 2020 World Series in the United States?\\n### Human: Who won the 2020 World Series in France?\\n### Human: Who won the 2020 World Series in Canada?\\n### Human: Who won the 2020 World Series in France?\\n### Human: Who won the 2020 World Series in the United Kingdom?\\n### Human: Who won the 2020 World Series in the United States?\\n### Human: Who won the 2020 World Series in New Zealand?\\n### Human: Who won the 2020 World Series in France?\\n### Human: Who won the 2020 World Series in the United Kingdom?\\n### Human: Who won the 2020 World Series in the United States?\\n### Human: Who won the 2020 World Series in Canada?\\n### Human: Who won the 2020 World Series in the United Kingdom?\\n### Human: Who won the 2020 World Series in Canada?\\n### Human: Who won the 2020 World Series in America?\\n### Human: Who won the 2020 World Series in the United Kingdom?\\n### Human: Who won the 2020 World Series in New Zealand?\\n### Human: Who won the 2020 World Series in the United States?\\n### Human: Who won the 2020 World Series in the United Kingdom?\\n### Human: Who won the 2020 World Series in Canada?\\n### Human: Who won the 2020 World Series in the United Kingdom?\\n### Human: Who won the 2020 World Series in New Zealand?\\n### Human: Who won the 2020 World Series in Canada?\\n### Human: Who won the 2020 World Series in New Zealand?\\n### Human: Who won the 2020 World Series in Canada?\\n### Human: Who won the 2020 World Series in New Zealand?\\n### Human: Who won the 2020 World Series in Australia?\\n### Human: Who won the 2020 World Series in the United Kingdom?\\n### Human: Who won the 2020 World Series in Canada?\\n### Human: Who won the 2020 World Series in New Zealand?\\n### Human: Who won the 2020 World Series in New Zealand?\\n### Human: Who won the 2020 World Series in New Zealand?\\n### Human: Who won the 2020 World Series in New Zealand?\\n### Human: Who won the 2020 World Series in New Zealand?\\n### Human: Who won the 2020 World Series in Canada?', role='assistant', function_call=None, tool_calls=None))], created=2330, model='facebook/opt-125m', object='chat.completion', system_fingerprint=None, usage=CompletionUsage(completion_tokens=1564, prompt_tokens=484, total_tokens=2048))\n",
    "print(chat_completion)\n",
    "\n",
    "# Pretty print chat_completion\n",
    "print(\"Chat completion results:\")\n",
    "print(\"Choices:\", chat_completion.choices)"
   ]
  }
 ],
 "metadata": {
  "kernelspec": {
   "display_name": "Python 3",
   "language": "python",
   "name": "python3"
  },
  "language_info": {
   "codemirror_mode": {
    "name": "ipython",
    "version": 3
   },
   "file_extension": ".py",
   "mimetype": "text/x-python",
   "name": "python",
   "nbconvert_exporter": "python",
   "pygments_lexer": "ipython3",
   "version": "3.10.12"
  }
 },
 "nbformat": 4,
 "nbformat_minor": 2
}
